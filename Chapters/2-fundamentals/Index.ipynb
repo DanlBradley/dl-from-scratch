{
 "cells": [
  {
   "cell_type": "code",
   "execution_count": 1,
   "metadata": {},
   "outputs": [],
   "source": [
    "import matplotlib.pyplot as plt\n",
    "from typing import Callable\n",
    "from numpy import ndarray\n",
    "from numpy import typing\n",
    "import numpy as np\n",
    "\n",
    "def forward_linear_regression(X_batch: ndarray,\n",
    "                              y_batch: ndarray,\n",
    "                              weights: dict[str, ndarray]) -> tuple[float, dict[str, ndarray]]:\n",
    "    '''\n",
    "    Single forward pass of the linear regression training algorithm. Weights are saved as a dictionary, \n",
    "    containing both the weight terms ['W'] and bias term ['B'] where ['W'] is a Nx1 vector, and ['B'] is 1x1.\n",
    "    Output the information needed for the backward pass.\n",
    "    '''\n",
    "    forward_info = {}\n",
    "    forward_info['N'] = matmul_forward(X_batch, weights['W'])\n",
    "    forward_info['P'] = N + weights['B']\n",
    "    forward_info['X'] = X_batch\n",
    "    forward_info['y'] = y_batch\n",
    "    return L, forward_info"
   ]
  },
  {
   "cell_type": "code",
   "execution_count": 2,
   "metadata": {},
   "outputs": [],
   "source": [
    "X = np.array([[1.1, 1.8, 3.3, 4.4, 5],\n",
    "              [1.5, 1.6, 3.6, 4.2, 5.8]])\n",
    "Y = np.array([[1],\n",
    "              [1.1]])\n",
    "weights = {\n",
    "    'W': np.array([[.1],\n",
    "                   [-.2],\n",
    "                   [.1],\n",
    "                   [-.2],\n",
    "                   [1.2]]),\n",
    "    'B': np.array([[0]])\n",
    "}\n",
    "\n",
    "loss, forward_info = forward_linear_regression(X, Y, weights)\n",
    "#Next, calculate the backward pass. Based p "
   ]
  }
 ],
 "metadata": {
  "kernelspec": {
   "display_name": "dl-from-scratch",
   "language": "python",
   "name": "python3"
  },
  "language_info": {
   "codemirror_mode": {
    "name": "ipython",
    "version": 3
   },
   "file_extension": ".py",
   "mimetype": "text/x-python",
   "name": "python",
   "nbconvert_exporter": "python",
   "pygments_lexer": "ipython3",
   "version": "3.12.2"
  }
 },
 "nbformat": 4,
 "nbformat_minor": 2
}
